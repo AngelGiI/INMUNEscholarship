{
 "cells": [
  {
   "cell_type": "code",
   "execution_count": 2,
   "metadata": {},
   "outputs": [],
   "source": [
    "#Importamos las librerías\n",
    "import cv2\n",
    "import dlib\n",
    "#Configuramos de los objetos necesarios\n",
    "video_capture = cv2.VideoCapture(0) #Objeto Webcam \n",
    "detector = dlib.get_frontal_face_detector() #Detector facial\n",
    "predictor = dlib.shape_predictor(\"shape_predictor_68_face_landmarks.dat\") #Identificador de referencia. \n",
    "while True:\n",
    "    ret, frame = video_capture.read()\n",
    "    gray = cv2.cvtColor(frame, cv2.COLOR_BGR2GRAY)\n",
    "    clahe = cv2.createCLAHE(clipLimit=2.0, tileGridSize=(8,8))\n",
    "    clahe_image = clahe.apply(gray)\n",
    "    detections = detector(clahe_image, 1) #Detectar las caras en la imagen.\n",
    "    for k,d in enumerate(detections): #For para cada cara detectada\n",
    "        shape = predictor(clahe_image, d) #Obtención de coordenadas\n",
    "        for i in range(1,68): #Hay 68 puntos de referencia en cada cara\n",
    "            cv2.circle(frame, (shape.part(i).x, shape.part(i).y), 1, (0,0,255), thickness=2) #Para cada punto, dibuje un círculo rojo en el marco original\n",
    "    cv2.imshow(\"image\", frame) #Mostrar el frame\n",
    "    if cv2.waitKey(1) & 0xFF == ord('q'): #Salga del programa cuando el usuario presione 'q'\n",
    "        break"
   ]
  }
 ],
 "metadata": {
  "kernelspec": {
   "display_name": "Python 3",
   "language": "python",
   "name": "python3"
  },
  "language_info": {
   "codemirror_mode": {
    "name": "ipython",
    "version": 3
   },
   "file_extension": ".py",
   "mimetype": "text/x-python",
   "name": "python",
   "nbconvert_exporter": "python",
   "pygments_lexer": "ipython3",
   "version": "3.7.7"
  }
 },
 "nbformat": 4,
 "nbformat_minor": 4
}
